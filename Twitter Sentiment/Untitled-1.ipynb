{
 "metadata": {
  "language_info": {
   "codemirror_mode": {
    "name": "ipython",
    "version": 3
   },
   "file_extension": ".py",
   "mimetype": "text/x-python",
   "name": "python",
   "nbconvert_exporter": "python",
   "pygments_lexer": "ipython3",
   "version": "3.9.6"
  },
  "orig_nbformat": 4,
  "kernelspec": {
   "name": "python3",
   "display_name": "Python 3.9.6 64-bit"
  },
  "interpreter": {
   "hash": "548a540d9622d0b302769eb41e5ae09182b0e3a7cc1690bd2befdc120d711421"
  }
 },
 "nbformat": 4,
 "nbformat_minor": 2,
 "cells": [
  {
   "cell_type": "code",
   "execution_count": 132,
   "metadata": {},
   "outputs": [],
   "source": [
    "from textblob import TextBlob\n",
    "import tweepy\n",
    "import sys\n",
    "import numpy\n",
    "import matplotlib.pyplot as plt\n",
    "import pandas\n"
   ]
  },
  {
   "cell_type": "code",
   "execution_count": 133,
   "metadata": {},
   "outputs": [],
   "source": [
    "APIKey=\"u0MyqxdVT5JSFkd6nFTMFvzu1\"\n",
    "APISecretKey=\"39N8e25iyadcJveGTpGyBn0EW15F1d5I4azdXsUHSdsVsD8NBj\"\n",
    "AccessToken=\"562992856-tBa01zsmJIFs4aIruzDc6gM8YTVEfD5kfPANdzTg\"\n",
    "AccessTokenSecret=\"i8sIqiHFYGN2yOzfUy0yHYCig2Bk32O1Vin6tcYh76Mv1\"\n"
   ]
  },
  {
   "cell_type": "code",
   "execution_count": 134,
   "metadata": {},
   "outputs": [],
   "source": [
    "auth_handler=tweepy.OAuthHandler(consumer_key=APIKey,consumer_secret=APISecretKey)\n",
    "auth_handler.set_access_token(AccessToken,AccessTokenSecret)\n",
    "api=tweepy.API(auth_handler)\n"
   ]
  },
  {
   "cell_type": "code",
   "execution_count": 135,
   "metadata": {},
   "outputs": [],
   "source": [
    "search_term=\"vaccine\"\n",
    "tweet_amount=5\n",
    "\n",
    "start = \"2021-07-25\"\n",
    "end = \"2021-07-26\""
   ]
  },
  {
   "cell_type": "code",
   "execution_count": 136,
   "metadata": {},
   "outputs": [],
   "source": [
    "#specify the api search, the search term and the language and limit it to the amount of tweets. until= end,since=start\n",
    "tweets=tweepy.Cursor(api.search, q=search_term,geocode = '-29.152161,25.122126,533km',lang='en').items(tweet_amount)\n",
    "polarity=0\n",
    "\n",
    "positive=0\n",
    "neutral=0\n",
    "negative=0\n",
    "\n"
   ]
  },
  {
   "cell_type": "code",
   "execution_count": 137,
   "metadata": {},
   "outputs": [
    {
     "output_type": "stream",
     "name": "stdout",
     "text": [
      "You would swear SAn media does not have international sources..\nThis is like the 12th mass gathering against covid… https://t.co/xdOrG2D0oj\n1420018498336694273\n@DJTira Guess niggaz are gona buy vaccine cards a long with tickets\n1420018479395135488\n@DJTira We will buy vaccine cards relax boss.\n1420018388546564107\n@DJTira So it's happening vhel 🙄🙄no vaccine no entry https://t.co/dWXdO70gsw\n1420018381403602948\nYour celebs have been paid to push no vaccine no entry … just wait and see in the coming few days. Many will be tal… https://t.co/kPjfLC0uqQ\n1420018196950749192\n0.09999999999999999\nAmount of positive tweets: 1\nPercentage of positive tweets: 20.0 %\nAmount of neutral tweets: 3\nPercentage of neutral tweets: 60.0 %\nAmount of negative tweets: 1\nPercentage of negative tweets: 20.0 %\n"
     ]
    }
   ],
   "source": [
    "for tweet in tweets:\n",
    "    print(tweet.text)\n",
    "    print(tweet.id)\n",
    "    analysis= TextBlob(tweet.text)\n",
    "    polarity += analysis.polarity\n",
    "    #check the polarity of the tweet\n",
    "    if analysis.polarity > 0:\n",
    "        positive+=1\n",
    "    elif analysis.polarity < 0:\n",
    "        negative+=1\n",
    "    else:\n",
    "        neutral+=1\n",
    "\n",
    "print(polarity)\n",
    "\n",
    "print(f'Amount of positive tweets: {positive}')\n",
    "positivePercent=positive/tweet_amount*100\n",
    "print(f'Percentage of positive tweets: {positivePercent} %')\n",
    "print(f'Amount of neutral tweets: {neutral}')\n",
    "neutralPercent=neutral/tweet_amount*100\n",
    "print(f'Percentage of neutral tweets: {neutralPercent} %')\n",
    "print(f'Amount of negative tweets: {negative}')\n",
    "negativePercent=negative/tweet_amount*100\n",
    "print(f'Percentage of negative tweets: {negativePercent} %')"
   ]
  },
  {
   "cell_type": "code",
   "execution_count": 138,
   "metadata": {},
   "outputs": [
    {
     "output_type": "display_data",
     "data": {
      "text/plain": "<Figure size 432x288 with 1 Axes>",
      "image/svg+xml": "<?xml version=\"1.0\" encoding=\"utf-8\" standalone=\"no\"?>\r\n<!DOCTYPE svg PUBLIC \"-//W3C//DTD SVG 1.1//EN\"\r\n  \"http://www.w3.org/Graphics/SVG/1.1/DTD/svg11.dtd\">\r\n<svg height=\"231.84pt\" version=\"1.1\" viewBox=\"0 0 239.065318 231.84\" width=\"239.065318pt\" xmlns=\"http://www.w3.org/2000/svg\" xmlns:xlink=\"http://www.w3.org/1999/xlink\">\r\n <metadata>\r\n  <rdf:RDF xmlns:cc=\"http://creativecommons.org/ns#\" xmlns:dc=\"http://purl.org/dc/elements/1.1/\" xmlns:rdf=\"http://www.w3.org/1999/02/22-rdf-syntax-ns#\">\r\n   <cc:Work>\r\n    <dc:type rdf:resource=\"http://purl.org/dc/dcmitype/StillImage\"/>\r\n    <dc:date>2021-07-27T15:49:35.872700</dc:date>\r\n    <dc:format>image/svg+xml</dc:format>\r\n    <dc:creator>\r\n     <cc:Agent>\r\n      <dc:title>Matplotlib v3.4.2, https://matplotlib.org/</dc:title>\r\n     </cc:Agent>\r\n    </dc:creator>\r\n   </cc:Work>\r\n  </rdf:RDF>\r\n </metadata>\r\n <defs>\r\n  <style type=\"text/css\">*{stroke-linecap:butt;stroke-linejoin:round;}</style>\r\n </defs>\r\n <g id=\"figure_1\">\r\n  <g id=\"patch_1\">\r\n   <path d=\"M 0 231.84 \r\nL 239.065318 231.84 \r\nL 239.065318 0 \r\nL 0 0 \r\nz\r\n\" style=\"fill:none;\"/>\r\n  </g>\r\n  <g id=\"axes_1\">\r\n   <g id=\"patch_2\">\r\n    <path d=\"M 202.896 115.92 \r\nC 202.896 97.555326 197.079546 79.654122 186.285062 64.796789 \r\nC 175.490577 49.939456 160.262904 38.875904 142.797061 33.200908 \r\nL 115.92 115.92 \r\nL 202.896 115.92 \r\nz\r\n\" style=\"fill:#008000;\"/>\r\n   </g>\r\n   <g id=\"patch_3\">\r\n    <path d=\"M 142.797061 33.200908 \r\nC 125.331218 27.525912 106.508778 27.525912 89.042936 33.200909 \r\nC 71.577093 38.875906 56.34942 49.939459 45.554936 64.796793 \r\nL 115.92 115.92 \r\nL 142.797061 33.200908 \r\nz\r\n\" style=\"fill:#ff0000;\"/>\r\n   </g>\r\n   <g id=\"patch_4\">\r\n    <path d=\"M 45.554936 64.796793 \r\nC 37.487555 75.900591 32.161888 88.75789 30.014818 102.313961 \r\nC 27.867748 115.870032 28.959636 129.743771 33.20091 142.797068 \r\nC 37.442185 155.850365 44.71361 167.716251 54.418686 177.421325 \r\nC 64.123763 187.1264 75.989649 194.397823 89.042947 198.639095 \r\nC 102.096245 202.880367 115.969984 203.972252 129.526055 201.825179 \r\nC 143.082126 199.678107 155.939424 194.352438 167.043221 186.285054 \r\nC 178.147018 178.217671 187.18515 167.635374 193.41619 155.406265 \r\nC 199.64723 143.177155 202.896003 129.645033 202.896 115.919984 \r\nL 115.92 115.92 \r\nL 45.554936 64.796793 \r\nz\r\n\" style=\"fill:#ffa500;\"/>\r\n   </g>\r\n   <g id=\"matplotlib.axis_1\"/>\r\n   <g id=\"matplotlib.axis_2\"/>\r\n   <g id=\"text_1\">\r\n    <!-- Positive -->\r\n    <g transform=\"translate(193.321568 62.443843)scale(0.1 -0.1)\">\r\n     <defs>\r\n      <path d=\"M 1259 4147 \r\nL 1259 2394 \r\nL 2053 2394 \r\nQ 2494 2394 2734 2622 \r\nQ 2975 2850 2975 3272 \r\nQ 2975 3691 2734 3919 \r\nQ 2494 4147 2053 4147 \r\nL 1259 4147 \r\nz\r\nM 628 4666 \r\nL 2053 4666 \r\nQ 2838 4666 3239 4311 \r\nQ 3641 3956 3641 3272 \r\nQ 3641 2581 3239 2228 \r\nQ 2838 1875 2053 1875 \r\nL 1259 1875 \r\nL 1259 0 \r\nL 628 0 \r\nL 628 4666 \r\nz\r\n\" id=\"DejaVuSans-50\" transform=\"scale(0.015625)\"/>\r\n      <path d=\"M 1959 3097 \r\nQ 1497 3097 1228 2736 \r\nQ 959 2375 959 1747 \r\nQ 959 1119 1226 758 \r\nQ 1494 397 1959 397 \r\nQ 2419 397 2687 759 \r\nQ 2956 1122 2956 1747 \r\nQ 2956 2369 2687 2733 \r\nQ 2419 3097 1959 3097 \r\nz\r\nM 1959 3584 \r\nQ 2709 3584 3137 3096 \r\nQ 3566 2609 3566 1747 \r\nQ 3566 888 3137 398 \r\nQ 2709 -91 1959 -91 \r\nQ 1206 -91 779 398 \r\nQ 353 888 353 1747 \r\nQ 353 2609 779 3096 \r\nQ 1206 3584 1959 3584 \r\nz\r\n\" id=\"DejaVuSans-6f\" transform=\"scale(0.015625)\"/>\r\n      <path d=\"M 2834 3397 \r\nL 2834 2853 \r\nQ 2591 2978 2328 3040 \r\nQ 2066 3103 1784 3103 \r\nQ 1356 3103 1142 2972 \r\nQ 928 2841 928 2578 \r\nQ 928 2378 1081 2264 \r\nQ 1234 2150 1697 2047 \r\nL 1894 2003 \r\nQ 2506 1872 2764 1633 \r\nQ 3022 1394 3022 966 \r\nQ 3022 478 2636 193 \r\nQ 2250 -91 1575 -91 \r\nQ 1294 -91 989 -36 \r\nQ 684 19 347 128 \r\nL 347 722 \r\nQ 666 556 975 473 \r\nQ 1284 391 1588 391 \r\nQ 1994 391 2212 530 \r\nQ 2431 669 2431 922 \r\nQ 2431 1156 2273 1281 \r\nQ 2116 1406 1581 1522 \r\nL 1381 1569 \r\nQ 847 1681 609 1914 \r\nQ 372 2147 372 2553 \r\nQ 372 3047 722 3315 \r\nQ 1072 3584 1716 3584 \r\nQ 2034 3584 2315 3537 \r\nQ 2597 3491 2834 3397 \r\nz\r\n\" id=\"DejaVuSans-73\" transform=\"scale(0.015625)\"/>\r\n      <path d=\"M 603 3500 \r\nL 1178 3500 \r\nL 1178 0 \r\nL 603 0 \r\nL 603 3500 \r\nz\r\nM 603 4863 \r\nL 1178 4863 \r\nL 1178 4134 \r\nL 603 4134 \r\nL 603 4863 \r\nz\r\n\" id=\"DejaVuSans-69\" transform=\"scale(0.015625)\"/>\r\n      <path d=\"M 1172 4494 \r\nL 1172 3500 \r\nL 2356 3500 \r\nL 2356 3053 \r\nL 1172 3053 \r\nL 1172 1153 \r\nQ 1172 725 1289 603 \r\nQ 1406 481 1766 481 \r\nL 2356 481 \r\nL 2356 0 \r\nL 1766 0 \r\nQ 1100 0 847 248 \r\nQ 594 497 594 1153 \r\nL 594 3053 \r\nL 172 3053 \r\nL 172 3500 \r\nL 594 3500 \r\nL 594 4494 \r\nL 1172 4494 \r\nz\r\n\" id=\"DejaVuSans-74\" transform=\"scale(0.015625)\"/>\r\n      <path d=\"M 191 3500 \r\nL 800 3500 \r\nL 1894 563 \r\nL 2988 3500 \r\nL 3597 3500 \r\nL 2284 0 \r\nL 1503 0 \r\nL 191 3500 \r\nz\r\n\" id=\"DejaVuSans-76\" transform=\"scale(0.015625)\"/>\r\n      <path d=\"M 3597 1894 \r\nL 3597 1613 \r\nL 953 1613 \r\nQ 991 1019 1311 708 \r\nQ 1631 397 2203 397 \r\nQ 2534 397 2845 478 \r\nQ 3156 559 3463 722 \r\nL 3463 178 \r\nQ 3153 47 2828 -22 \r\nQ 2503 -91 2169 -91 \r\nQ 1331 -91 842 396 \r\nQ 353 884 353 1716 \r\nQ 353 2575 817 3079 \r\nQ 1281 3584 2069 3584 \r\nQ 2775 3584 3186 3129 \r\nQ 3597 2675 3597 1894 \r\nz\r\nM 3022 2063 \r\nQ 3016 2534 2758 2815 \r\nQ 2500 3097 2075 3097 \r\nQ 1594 3097 1305 2825 \r\nQ 1016 2553 972 2059 \r\nL 3022 2063 \r\nz\r\n\" id=\"DejaVuSans-65\" transform=\"scale(0.015625)\"/>\r\n     </defs>\r\n     <use xlink:href=\"#DejaVuSans-50\"/>\r\n     <use x=\"56.677734\" xlink:href=\"#DejaVuSans-6f\"/>\r\n     <use x=\"117.859375\" xlink:href=\"#DejaVuSans-73\"/>\r\n     <use x=\"169.958984\" xlink:href=\"#DejaVuSans-69\"/>\r\n     <use x=\"197.742188\" xlink:href=\"#DejaVuSans-74\"/>\r\n     <use x=\"236.951172\" xlink:href=\"#DejaVuSans-69\"/>\r\n     <use x=\"264.734375\" xlink:href=\"#DejaVuSans-76\"/>\r\n     <use x=\"323.914062\" xlink:href=\"#DejaVuSans-65\"/>\r\n    </g>\r\n   </g>\r\n   <g id=\"text_2\">\r\n    <!-- Negative -->\r\n    <g transform=\"translate(41.473979 27.688375)scale(0.1 -0.1)\">\r\n     <defs>\r\n      <path d=\"M 628 4666 \r\nL 1478 4666 \r\nL 3547 763 \r\nL 3547 4666 \r\nL 4159 4666 \r\nL 4159 0 \r\nL 3309 0 \r\nL 1241 3903 \r\nL 1241 0 \r\nL 628 0 \r\nL 628 4666 \r\nz\r\n\" id=\"DejaVuSans-4e\" transform=\"scale(0.015625)\"/>\r\n      <path d=\"M 2906 1791 \r\nQ 2906 2416 2648 2759 \r\nQ 2391 3103 1925 3103 \r\nQ 1463 3103 1205 2759 \r\nQ 947 2416 947 1791 \r\nQ 947 1169 1205 825 \r\nQ 1463 481 1925 481 \r\nQ 2391 481 2648 825 \r\nQ 2906 1169 2906 1791 \r\nz\r\nM 3481 434 \r\nQ 3481 -459 3084 -895 \r\nQ 2688 -1331 1869 -1331 \r\nQ 1566 -1331 1297 -1286 \r\nQ 1028 -1241 775 -1147 \r\nL 775 -588 \r\nQ 1028 -725 1275 -790 \r\nQ 1522 -856 1778 -856 \r\nQ 2344 -856 2625 -561 \r\nQ 2906 -266 2906 331 \r\nL 2906 616 \r\nQ 2728 306 2450 153 \r\nQ 2172 0 1784 0 \r\nQ 1141 0 747 490 \r\nQ 353 981 353 1791 \r\nQ 353 2603 747 3093 \r\nQ 1141 3584 1784 3584 \r\nQ 2172 3584 2450 3431 \r\nQ 2728 3278 2906 2969 \r\nL 2906 3500 \r\nL 3481 3500 \r\nL 3481 434 \r\nz\r\n\" id=\"DejaVuSans-67\" transform=\"scale(0.015625)\"/>\r\n      <path d=\"M 2194 1759 \r\nQ 1497 1759 1228 1600 \r\nQ 959 1441 959 1056 \r\nQ 959 750 1161 570 \r\nQ 1363 391 1709 391 \r\nQ 2188 391 2477 730 \r\nQ 2766 1069 2766 1631 \r\nL 2766 1759 \r\nL 2194 1759 \r\nz\r\nM 3341 1997 \r\nL 3341 0 \r\nL 2766 0 \r\nL 2766 531 \r\nQ 2569 213 2275 61 \r\nQ 1981 -91 1556 -91 \r\nQ 1019 -91 701 211 \r\nQ 384 513 384 1019 \r\nQ 384 1609 779 1909 \r\nQ 1175 2209 1959 2209 \r\nL 2766 2209 \r\nL 2766 2266 \r\nQ 2766 2663 2505 2880 \r\nQ 2244 3097 1772 3097 \r\nQ 1472 3097 1187 3025 \r\nQ 903 2953 641 2809 \r\nL 641 3341 \r\nQ 956 3463 1253 3523 \r\nQ 1550 3584 1831 3584 \r\nQ 2591 3584 2966 3190 \r\nQ 3341 2797 3341 1997 \r\nz\r\n\" id=\"DejaVuSans-61\" transform=\"scale(0.015625)\"/>\r\n     </defs>\r\n     <use xlink:href=\"#DejaVuSans-4e\"/>\r\n     <use x=\"74.804688\" xlink:href=\"#DejaVuSans-65\"/>\r\n     <use x=\"136.328125\" xlink:href=\"#DejaVuSans-67\"/>\r\n     <use x=\"199.804688\" xlink:href=\"#DejaVuSans-61\"/>\r\n     <use x=\"261.083984\" xlink:href=\"#DejaVuSans-74\"/>\r\n     <use x=\"300.292969\" xlink:href=\"#DejaVuSans-69\"/>\r\n     <use x=\"328.076172\" xlink:href=\"#DejaVuSans-76\"/>\r\n     <use x=\"387.255859\" xlink:href=\"#DejaVuSans-65\"/>\r\n    </g>\r\n   </g>\r\n   <g id=\"text_3\">\r\n    <!-- Neutral -->\r\n    <g transform=\"translate(49.445867 209.670379)scale(0.1 -0.1)\">\r\n     <defs>\r\n      <path d=\"M 544 1381 \r\nL 544 3500 \r\nL 1119 3500 \r\nL 1119 1403 \r\nQ 1119 906 1312 657 \r\nQ 1506 409 1894 409 \r\nQ 2359 409 2629 706 \r\nQ 2900 1003 2900 1516 \r\nL 2900 3500 \r\nL 3475 3500 \r\nL 3475 0 \r\nL 2900 0 \r\nL 2900 538 \r\nQ 2691 219 2414 64 \r\nQ 2138 -91 1772 -91 \r\nQ 1169 -91 856 284 \r\nQ 544 659 544 1381 \r\nz\r\nM 1991 3584 \r\nL 1991 3584 \r\nz\r\n\" id=\"DejaVuSans-75\" transform=\"scale(0.015625)\"/>\r\n      <path d=\"M 2631 2963 \r\nQ 2534 3019 2420 3045 \r\nQ 2306 3072 2169 3072 \r\nQ 1681 3072 1420 2755 \r\nQ 1159 2438 1159 1844 \r\nL 1159 0 \r\nL 581 0 \r\nL 581 3500 \r\nL 1159 3500 \r\nL 1159 2956 \r\nQ 1341 3275 1631 3429 \r\nQ 1922 3584 2338 3584 \r\nQ 2397 3584 2469 3576 \r\nQ 2541 3569 2628 3553 \r\nL 2631 2963 \r\nz\r\n\" id=\"DejaVuSans-72\" transform=\"scale(0.015625)\"/>\r\n      <path d=\"M 603 4863 \r\nL 1178 4863 \r\nL 1178 0 \r\nL 603 0 \r\nL 603 4863 \r\nz\r\n\" id=\"DejaVuSans-6c\" transform=\"scale(0.015625)\"/>\r\n     </defs>\r\n     <use xlink:href=\"#DejaVuSans-4e\"/>\r\n     <use x=\"74.804688\" xlink:href=\"#DejaVuSans-65\"/>\r\n     <use x=\"136.328125\" xlink:href=\"#DejaVuSans-75\"/>\r\n     <use x=\"199.707031\" xlink:href=\"#DejaVuSans-74\"/>\r\n     <use x=\"238.916016\" xlink:href=\"#DejaVuSans-72\"/>\r\n     <use x=\"280.029297\" xlink:href=\"#DejaVuSans-61\"/>\r\n     <use x=\"341.308594\" xlink:href=\"#DejaVuSans-6c\"/>\r\n    </g>\r\n   </g>\r\n   <g id=\"legend_1\">\r\n    <g id=\"patch_5\">\r\n     <path d=\"M 14.2 219.64 \r\nL 91.08125 219.64 \r\nQ 93.08125 219.64 93.08125 217.64 \r\nL 93.08125 159.9275 \r\nQ 93.08125 157.9275 91.08125 157.9275 \r\nL 14.2 157.9275 \r\nQ 12.2 157.9275 12.2 159.9275 \r\nL 12.2 217.64 \r\nQ 12.2 219.64 14.2 219.64 \r\nz\r\n\" style=\"fill:#ffffff;opacity:0.8;stroke:#cccccc;stroke-linejoin:miter;\"/>\r\n    </g>\r\n    <g id=\"text_4\">\r\n     <!-- Legend -->\r\n     <g transform=\"translate(34.271875 169.525937)scale(0.1 -0.1)\">\r\n      <defs>\r\n       <path d=\"M 628 4666 \r\nL 1259 4666 \r\nL 1259 531 \r\nL 3531 531 \r\nL 3531 0 \r\nL 628 0 \r\nL 628 4666 \r\nz\r\n\" id=\"DejaVuSans-4c\" transform=\"scale(0.015625)\"/>\r\n       <path d=\"M 3513 2113 \r\nL 3513 0 \r\nL 2938 0 \r\nL 2938 2094 \r\nQ 2938 2591 2744 2837 \r\nQ 2550 3084 2163 3084 \r\nQ 1697 3084 1428 2787 \r\nQ 1159 2491 1159 1978 \r\nL 1159 0 \r\nL 581 0 \r\nL 581 3500 \r\nL 1159 3500 \r\nL 1159 2956 \r\nQ 1366 3272 1645 3428 \r\nQ 1925 3584 2291 3584 \r\nQ 2894 3584 3203 3211 \r\nQ 3513 2838 3513 2113 \r\nz\r\n\" id=\"DejaVuSans-6e\" transform=\"scale(0.015625)\"/>\r\n       <path d=\"M 2906 2969 \r\nL 2906 4863 \r\nL 3481 4863 \r\nL 3481 0 \r\nL 2906 0 \r\nL 2906 525 \r\nQ 2725 213 2448 61 \r\nQ 2172 -91 1784 -91 \r\nQ 1150 -91 751 415 \r\nQ 353 922 353 1747 \r\nQ 353 2572 751 3078 \r\nQ 1150 3584 1784 3584 \r\nQ 2172 3584 2448 3432 \r\nQ 2725 3281 2906 2969 \r\nz\r\nM 947 1747 \r\nQ 947 1113 1208 752 \r\nQ 1469 391 1925 391 \r\nQ 2381 391 2643 752 \r\nQ 2906 1113 2906 1747 \r\nQ 2906 2381 2643 2742 \r\nQ 2381 3103 1925 3103 \r\nQ 1469 3103 1208 2742 \r\nQ 947 2381 947 1747 \r\nz\r\n\" id=\"DejaVuSans-64\" transform=\"scale(0.015625)\"/>\r\n      </defs>\r\n      <use xlink:href=\"#DejaVuSans-4c\"/>\r\n      <use x=\"53.962891\" xlink:href=\"#DejaVuSans-65\"/>\r\n      <use x=\"115.486328\" xlink:href=\"#DejaVuSans-67\"/>\r\n      <use x=\"178.962891\" xlink:href=\"#DejaVuSans-65\"/>\r\n      <use x=\"240.486328\" xlink:href=\"#DejaVuSans-6e\"/>\r\n      <use x=\"303.865234\" xlink:href=\"#DejaVuSans-64\"/>\r\n     </g>\r\n    </g>\r\n    <g id=\"patch_6\">\r\n     <path d=\"M 16.2 184.204062 \r\nL 36.2 184.204062 \r\nL 36.2 177.204062 \r\nL 16.2 177.204062 \r\nz\r\n\" style=\"fill:#008000;\"/>\r\n    </g>\r\n    <g id=\"text_5\">\r\n     <!-- Positive -->\r\n     <g transform=\"translate(44.2 184.204062)scale(0.1 -0.1)\">\r\n      <use xlink:href=\"#DejaVuSans-50\"/>\r\n      <use x=\"56.677734\" xlink:href=\"#DejaVuSans-6f\"/>\r\n      <use x=\"117.859375\" xlink:href=\"#DejaVuSans-73\"/>\r\n      <use x=\"169.958984\" xlink:href=\"#DejaVuSans-69\"/>\r\n      <use x=\"197.742188\" xlink:href=\"#DejaVuSans-74\"/>\r\n      <use x=\"236.951172\" xlink:href=\"#DejaVuSans-69\"/>\r\n      <use x=\"264.734375\" xlink:href=\"#DejaVuSans-76\"/>\r\n      <use x=\"323.914062\" xlink:href=\"#DejaVuSans-65\"/>\r\n     </g>\r\n    </g>\r\n    <g id=\"patch_7\">\r\n     <path d=\"M 16.2 198.882187 \r\nL 36.2 198.882187 \r\nL 36.2 191.882187 \r\nL 16.2 191.882187 \r\nz\r\n\" style=\"fill:#ff0000;\"/>\r\n    </g>\r\n    <g id=\"text_6\">\r\n     <!-- Negative -->\r\n     <g transform=\"translate(44.2 198.882187)scale(0.1 -0.1)\">\r\n      <use xlink:href=\"#DejaVuSans-4e\"/>\r\n      <use x=\"74.804688\" xlink:href=\"#DejaVuSans-65\"/>\r\n      <use x=\"136.328125\" xlink:href=\"#DejaVuSans-67\"/>\r\n      <use x=\"199.804688\" xlink:href=\"#DejaVuSans-61\"/>\r\n      <use x=\"261.083984\" xlink:href=\"#DejaVuSans-74\"/>\r\n      <use x=\"300.292969\" xlink:href=\"#DejaVuSans-69\"/>\r\n      <use x=\"328.076172\" xlink:href=\"#DejaVuSans-76\"/>\r\n      <use x=\"387.255859\" xlink:href=\"#DejaVuSans-65\"/>\r\n     </g>\r\n    </g>\r\n    <g id=\"patch_8\">\r\n     <path d=\"M 16.2 213.560312 \r\nL 36.2 213.560312 \r\nL 36.2 206.560312 \r\nL 16.2 206.560312 \r\nz\r\n\" style=\"fill:#ffa500;\"/>\r\n    </g>\r\n    <g id=\"text_7\">\r\n     <!-- Neutral -->\r\n     <g transform=\"translate(44.2 213.560312)scale(0.1 -0.1)\">\r\n      <use xlink:href=\"#DejaVuSans-4e\"/>\r\n      <use x=\"74.804688\" xlink:href=\"#DejaVuSans-65\"/>\r\n      <use x=\"136.328125\" xlink:href=\"#DejaVuSans-75\"/>\r\n      <use x=\"199.707031\" xlink:href=\"#DejaVuSans-74\"/>\r\n      <use x=\"238.916016\" xlink:href=\"#DejaVuSans-72\"/>\r\n      <use x=\"280.029297\" xlink:href=\"#DejaVuSans-61\"/>\r\n      <use x=\"341.308594\" xlink:href=\"#DejaVuSans-6c\"/>\r\n     </g>\r\n    </g>\r\n   </g>\r\n  </g>\r\n </g>\r\n</svg>\r\n",
      "image/png": "[encoded data removed]"
     },
     "metadata": {}
    }
   ],
   "source": [
    "\n",
    "plt.pie([positivePercent,negativePercent,neutralPercent],labels=[\"Positive\",\"Negative\",\"Neutral\"],colors=[\"green\",\"red\",\"orange\"])\n",
    "plt.legend(title = \"Legend\")\n",
    "plt.show()\n",
    "\n"
   ]
  },
  {
   "cell_type": "code",
   "execution_count": null,
   "metadata": {},
   "outputs": [],
   "source": []
  }
 ]
}